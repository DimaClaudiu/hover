{
 "cells": [
  {
   "cell_type": "code",
   "execution_count": null,
   "metadata": {},
   "outputs": [],
   "source": [
    "%load_ext autoreload\n",
    "%autoreload 2"
   ]
  },
  {
   "cell_type": "code",
   "execution_count": null,
   "metadata": {},
   "outputs": [],
   "source": [
    "import sys\n",
    "sys.path.append('../../../')"
   ]
  },
  {
   "cell_type": "code",
   "execution_count": null,
   "metadata": {
    "jupyter": {
     "source_hidden": true
    }
   },
   "outputs": [],
   "source": [
    "%%bash\n",
    "cat ../../snippets/py/t0-0-dataset-text.txt"
   ]
  },
  {
   "cell_type": "code",
   "execution_count": null,
   "metadata": {},
   "outputs": [],
   "source": [
    "from hover.core.dataset import SupervisableTextDataset\n",
    "from faker import Faker\n",
    "import random\n",
    "\n",
    "# ---- fake data for illustation ----\n",
    "fake_en = Faker(\"en\")\n",
    "\n",
    "def random_text():\n",
    "    return fake_en.paragraph(3)\n",
    "\n",
    "def random_raw_data():\n",
    "    return {\"content\": random_text()}\n",
    "\n",
    "def random_labeled_data():\n",
    "    return {\"content\": random_text(), \"mark\": random.choice([\"A\", \"B\"])}\n",
    "\n",
    "# -----------------------------------\n",
    "\n",
    "dataset = SupervisableTextDataset(\n",
    "    # raw data which do not have labels\n",
    "    raw_dictl=[random_raw_data() for i in range(500)],\n",
    "    # train / dev / test sets are optional\n",
    "    train_dictl=[],\n",
    "    dev_dictl=[random_labeled_data() for i in range(50)],\n",
    "    test_dictl=[random_labeled_data() for i in range(50)],\n",
    "    # adjust feature_key and label_key to your data\n",
    "    feature_key=\"content\",\n",
    "    label_key=\"mark\",\n",
    ")\n",
    "\n",
    "# each subset is stored in its own DataFrame\n",
    "dataset.dfs[\"raw\"].head(5)"
   ]
  },
  {
   "cell_type": "code",
   "execution_count": null,
   "metadata": {
    "jupyter": {
     "source_hidden": true
    }
   },
   "outputs": [],
   "source": [
    "%%bash\n",
    "cat ../../snippets/py/t0-1-vectorizer.txt"
   ]
  },
  {
   "cell_type": "code",
   "execution_count": null,
   "metadata": {},
   "outputs": [],
   "source": [
    "import spacy\n",
    "import re\n",
    "\n",
    "nlp = spacy.load(\"en_core_web_md\")\n",
    "\n",
    "def vectorizer(text):\n",
    "    clean_text = re.sub(r\"[\\s]+\", r\" \", text)\n",
    "    return nlp(clean_text, disable=nlp.pipe_names).vector\n",
    "\n",
    "text = dataset.dfs[\"raw\"].loc[0, \"text\"]\n",
    "vec = vectorizer(text)\n",
    "print(f\"Text: {text}\")\n",
    "print(f\"Vector shape: {vec.shape}\")"
   ]
  },
  {
   "cell_type": "code",
   "execution_count": null,
   "metadata": {
    "jupyter": {
     "source_hidden": true
    }
   },
   "outputs": [],
   "source": [
    "%%bash\n",
    "cat ../../snippets/py/t0-2-reduction.txt"
   ]
  },
  {
   "cell_type": "code",
   "execution_count": null,
   "metadata": {},
   "outputs": [],
   "source": [
    "# any kwargs will be passed onto the corresponding reduction\n",
    "# for umap: https://umap-learn.readthedocs.io/en/latest/parameters.html\n",
    "# for ivis: https://bering-ivis.readthedocs.io/en/latest/api.html\n",
    "dataset.compute_2d_embedding(vectorizer, \"umap\")\n",
    "\n",
    "# What we did adds 'x' and 'y' columns to the DataFrames in dataset.dfs\n",
    "# One could alternatively pre-compute these columns using any approach\n",
    "dataset.dfs[\"raw\"].head(5)"
   ]
  },
  {
   "cell_type": "code",
   "execution_count": null,
   "metadata": {
    "jupyter": {
     "source_hidden": true
    }
   },
   "outputs": [],
   "source": [
    "%%bash\n",
    "cat ../../snippets/py/t0-3-simple-annotator.txt"
   ]
  },
  {
   "cell_type": "code",
   "execution_count": null,
   "metadata": {},
   "outputs": [],
   "source": [
    "from hover.recipes import simple_annotator\n",
    "from bokeh.io import show, output_notebook\n",
    "\n",
    "# 'handle' is a function that renders elements in bokeh documents\n",
    "handle = simple_annotator(dataset)\n",
    "\n",
    "output_notebook()\n",
    "show(handle, notebook_url='http://localhost:8888')"
   ]
  },
  {
   "cell_type": "code",
   "execution_count": null,
   "metadata": {
    "jupyter": {
     "source_hidden": true
    }
   },
   "outputs": [],
   "source": [
    "%%bash\n",
    "cat ../../snippets/py/t1-0-vecnet-callback.txt"
   ]
  },
  {
   "cell_type": "code",
   "execution_count": null,
   "metadata": {},
   "outputs": [],
   "source": [
    "from hover.core.neural import VectorNet\n",
    "from hover.utils.common_nn import LogisticRegression\n",
    "\n",
    "def vecnet_callback(dataset, vectorizer):\n",
    "    \"\"\"\n",
    "    Create a model with vectorizer-NN architecture.\n",
    "    \"\"\"\n",
    "    # model.pt will point to a PyTorch state dict (to be created)\n",
    "    # which gets cumulatively updated when we train the model\n",
    "    vecnet = VectorNet(vectorizer, LogisticRegression, \"model.pt\", dataset.classes)\n",
    "    return vecnet\n",
    "\n",
    "vecnet = vecnet_callback(dataset, vectorizer)\n",
    "\n",
    "# predict_proba accepts individual strings or list\n",
    "# text -> vector -> class probabilities\n",
    "print(vecnet.predict_proba(text))\n",
    "print(vecnet.predict_proba([text]))"
   ]
  },
  {
   "cell_type": "code",
   "execution_count": null,
   "metadata": {
    "jupyter": {
     "source_hidden": true
    }
   },
   "outputs": [],
   "source": [
    "%%bash\n",
    "cat ../../snippets/py/t1-1-active-learning.txt"
   ]
  },
  {
   "cell_type": "code",
   "execution_count": null,
   "metadata": {},
   "outputs": [],
   "source": [
    "from hover.recipes.experimental import active_learning\n",
    "from bokeh.io import show, output_notebook\n",
    "\n",
    "handle = active_learning(dataset, vectorizer, vecnet_callback)\n",
    "\n",
    "output_notebook()\n",
    "show(handle)"
   ]
  },
  {
   "cell_type": "code",
   "execution_count": null,
   "metadata": {},
   "outputs": [],
   "source": []
  }
 ],
 "metadata": {
  "kernelspec": {
   "display_name": "Python 3",
   "language": "python",
   "name": "python3"
  },
  "language_info": {
   "codemirror_mode": {
    "name": "ipython",
    "version": 3
   },
   "file_extension": ".py",
   "mimetype": "text/x-python",
   "name": "python",
   "nbconvert_exporter": "python",
   "pygments_lexer": "ipython3",
   "version": "3.6.10"
  }
 },
 "nbformat": 4,
 "nbformat_minor": 4
}
